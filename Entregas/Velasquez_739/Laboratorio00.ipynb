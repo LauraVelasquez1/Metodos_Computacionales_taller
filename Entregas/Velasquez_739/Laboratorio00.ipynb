{
  "nbformat": 4,
  "nbformat_minor": 0,
  "metadata": {
    "colab": {
      "name": "Laboratorio00.ipynb",
      "provenance": [],
      "collapsed_sections": []
    },
    "kernelspec": {
      "name": "python3",
      "display_name": "Python 3"
    },
    "language_info": {
      "name": "python"
    }
  },
  "cells": [
    {
      "cell_type": "code",
      "execution_count": 20,
      "metadata": {
        "colab": {
          "base_uri": "https://localhost:8080/"
        },
        "id": "OXhnp-egCYjq",
        "outputId": "1f8a752f-ff26-4e37-c421-9052342c357a"
      },
      "outputs": [
        {
          "output_type": "stream",
          "name": "stdout",
          "text": [
            " Hola, Elija su número favorito para realizar un factorial\n",
            "4\n",
            "de este número tomaremos solamente la parte entera\n",
            "4\n",
            "el factorial de 4 es \n",
            "24\n"
          ]
        }
      ],
      "source": [
        "## problema 1, factorial\n",
        "import numpy as np\n",
        "print(\" Hola, Elija su número favorito para realizar un factorial\")\n",
        "numfav=float(input())\n",
        "print(\"de este número tomaremos solamente la parte entera\")\n",
        "numfav1=int(numfav)\n",
        "print(numfav1)\n",
        "i=numfav1\n",
        "resultado=1\n",
        "while i>0 :\n",
        "   resultado=resultado*i\n",
        "   i-=1\n",
        "   if i==0 :\n",
        "     break \n",
        "print(\"el factorial de\", numfav1 , \"es \")\n",
        "print(resultado)\n"
      ]
    },
    {
      "cell_type": "code",
      "source": [
        ""
      ],
      "metadata": {
        "id": "fziHuViMChSW"
      },
      "execution_count": null,
      "outputs": []
    }
  ]
}